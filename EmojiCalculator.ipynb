{
 "cells": [
  {
   "cell_type": "code",
   "execution_count": 83,
   "metadata": {},
   "outputs": [],
   "source": [
    "# Build a list of all possible digits and put them into a dictionary\n",
    "class myDigit:\n",
    "  def __init__(self, normal, emoji):\n",
    "    self.normal = normal\n",
    "    self.emoji = emoji\n",
    "\n",
    "  def getNormal(self):\n",
    "    return str(self.normal)\n",
    "  \n",
    "  def getEmoji(self):\n",
    "    return self.emoji\n",
    "  \n",
    "  def getEmojiUTF8(self):\n",
    "    return self.emoji.decode(\"utf-8\")\n",
    "\n",
    "  def __str__(self):\n",
    "    return str(self.normal) + ' ' + self.getEmojiUTF8() + '\\n'\n",
    "\n",
    "# the below list is ordered: 9..0\n",
    "# NOTE: the emoji numbers from the example had \\xef\\xb8\\x8f as special character at the end of the digit while the one from the https://apps.timwhitlock.info/emoji/tables/unicode page had \\xE2\\x83\\xA3\n",
    "# TODO: check what's the difference between those two types of emoji digits\n",
    "emojiDigits = [b'\\x39\\xef\\xb8\\x8f', b'\\x38\\xef\\xb8\\x8f', b'\\x37\\xef\\xb8\\x8f', b'\\x36\\xef\\xb8\\x8f', b'\\x35\\xef\\xb8\\x8f', b'\\x34\\xef\\xb8\\x8f', b'\\x33\\xef\\xb8\\x8f', b'\\x32\\xef\\xb8\\x8f', b'\\x31\\xef\\xb8\\x8f', b'\\x30\\xef\\xb8\\x8f']\n",
    "myDigits = {}\n",
    "for i in range(0,10):\n",
    "  myDigits[i] = myDigit(i,emojiDigits[9-i])\n",
    "myDigits[10] = myDigit(10, b'\\xF0\\x9F\\x94\\x9F')\n",
    "myDigits[100] = myDigit(100, b'\\xF0\\x9F\\x92\\xAF')\n",
    "myDigits[-1] = myDigit(8, b'\\xF0\\x9F\\x8E\\xB1') #special case with the 8"
   ]
  },
  {
   "cell_type": "code",
   "execution_count": 177,
   "metadata": {},
   "outputs": [],
   "source": [
    "# Build a list of all possible operators and put them into a dict\n",
    "class myOperator: # redeclaring everything again? superClass would be prettier :/\n",
    "  def __init__(self, normal, emoji, word):\n",
    "    self.normal = normal\n",
    "    self.emoji = emoji\n",
    "    self.word = word\n",
    "\n",
    "  def getNormal(self):\n",
    "    return self.normal\n",
    "  \n",
    "  def getEmoji(self):\n",
    "    return self.emoji\n",
    "  \n",
    "  def getWord(self):\n",
    "    return self.word\n",
    "  \n",
    "  def getEmojiUTF8(self):\n",
    "    return self.emoji.decode(\"utf-8\")\n",
    "  \n",
    "  def __str__(self):\n",
    "    return self.normal + ' ' + self.getEmojiUTF8() + ' ' + self.word\n",
    "  \n",
    "myOperators = {}\n",
    "myOperators['+'] = myOperator('+', \"➕\".encode(), 'plus')\n",
    "myOperators['-'] = myOperator('-', \"➖\".encode(), 'minus')\n",
    "myOperators['*'] = myOperator('*', \"✖️\".encode(), 'times')\n",
    "myOperators['/'] = myOperator('/', \"➗\".encode(), 'dividedby')"
   ]
  },
  {
   "cell_type": "code",
   "execution_count": 178,
   "metadata": {
    "scrolled": true
   },
   "outputs": [],
   "source": [
    "# let's start with converting a simple number to emoji output\n",
    "class emojiAndNormalConverter:\n",
    "  def __init__(self, digits, operators):\n",
    "    self.digits = digits\n",
    "    self.operators = operators\n",
    "    self.validCharacters = ['+','-','*','/']\n",
    "    for i in range(0,10):\n",
    "      self.validCharacters.append(str(i))\n",
    "    \n",
    "    \n",
    "  def convertNumberToEmoji(self, number):\n",
    "    number = str(number)\n",
    "    # handle these two special cases\n",
    "    number = number.replace('100', self.digits[100].getEmojiUTF8())\n",
    "    number = number.replace('10', self.digits[10].getEmojiUTF8())\n",
    "    # we don't use the billiard 8 at all\n",
    "    for i in range(0,10):\n",
    "      number = number.replace(str(i), self.digits[i].getEmojiUTF8())\n",
    "    return number\n",
    "  \n",
    "  def convertEmojiStringToNormalOutput(self, myStr):\n",
    "    # remove spaces since we don't need them\n",
    "    myStr = myStr.replace(' ', '')\n",
    "    # replace all emoji digits\n",
    "    myStr = myStr.replace(self.digits[100].getEmojiUTF8(), self.digits[100].getNormal())\n",
    "    myStr = myStr.replace(self.digits[10].getEmojiUTF8(), self.digits[10].getNormal())\n",
    "    myStr = myStr.replace(self.digits[-1].getEmojiUTF8(), self.digits[-1].getNormal())\n",
    "    for i in range(0, 10):\n",
    "      myStr = myStr.replace(self.digits[i].getEmojiUTF8(), self.digits[i].getNormal())\n",
    "    for i in self.operators:\n",
    "      # replace all emoji operators\n",
    "      myStr = myStr.replace(self.operators[i].getEmojiUTF8(), self.operators[i].getNormal())\n",
    "      # replace all word operators\n",
    "      myStr = myStr.replace(self.operators[i].getWord(), self.operators[i].getNormal())    \n",
    "    myStr = myStr.replace('x','*')\n",
    "    myStr = myStr.replace('%','/')\n",
    "    # check if invalid output in string\n",
    "    stringForCheck = myStr\n",
    "    for i in self.validCharacters:\n",
    "      stringForCheck = stringForCheck.replace(i, '')\n",
    "    # if we have invalid characters\n",
    "    if len(stringForCheck) > 0:\n",
    "      raise ValueError(\"Invalid characters as input: `\" + stringForCheck + '` which has len: ' + str(len(stringForCheck)))\n",
    "    return myStr"
   ]
  },
  {
   "cell_type": "code",
   "execution_count": null,
   "metadata": {},
   "outputs": [],
   "source": [
    "myToEmojiConverter = emojiAndNormalConverter(myDigits, myOperators)\n",
    "expression = myToEmojiConverter.convertEmojiStringToNormalOutput(\"1%0\")\n",
    "eq, status = parser(expression)\n",
    "output = int(calculate(eq))\n",
    "myToEmojiConverter.convertNumberToEmoji(output)"
   ]
  },
  {
   "cell_type": "code",
   "execution_count": 181,
   "metadata": {},
   "outputs": [],
   "source": [
    "# The below code is from https://github.com/lucafmarques/Expression-Calculator-Python/blob/master/exp_calc.py\n",
    "# since I was lazy to write it\n",
    "# did a cleanup on the code as well\n",
    "# the source code is under GPL3 licences which means this has to be GPL3 as well\n",
    "# also translated the portuguese error messages\n",
    "import operator\n",
    "import math\n",
    "from re import sub\n",
    "\n",
    "def calculate(string):\n",
    "    ops = {\n",
    "        \"+\": operator.add,              #lambda x, y : x + y,\n",
    "        \"-\": operator.sub,              #lambda x, y: x - y,\n",
    "        \"*\": operator.mul,              #lambda x, y: x * y,\n",
    "        \"/\": operator.truediv,          #lambda x, y: x / y,\n",
    "    }\n",
    "    stack = []\n",
    "    if not string: return 0\n",
    "    for i in string:\n",
    "        try:\n",
    "            stack.append(float(i))\n",
    "        except ValueError:\n",
    "            if stack:\n",
    "                last = float(stack.pop())\n",
    "                try:\n",
    "                  try:\n",
    "                      stack.append(ops[i](float(stack.pop()), last))\n",
    "                  except ValueError:\n",
    "                      stack.append(\"{} No negative numbers.\".format(i))\n",
    "                  except IndexError:\n",
    "                      stack.append(\"Operators missing {}.\".format(i))\n",
    "                except ZeroDivisionError:\n",
    "                    pass\n",
    "    if not stack:\n",
    "        return \"Can not compute the expression\"\n",
    "    return stack[-1]\n",
    "\n",
    "def parser(string):\n",
    "    string = sub(r'([-+*/])(?=)', r' \\1 ', string)\n",
    "    ops = {\n",
    "        \"+\": {\"prec\" : 2, \"assoc\": 'L'},\n",
    "        \"-\": {\"prec\" : 2, \"assoc\": 'L'},\n",
    "        \"*\": {\"prec\" : 3, \"assoc\": 'L'},\n",
    "        \"/\": {\"prec\" : 3, \"assoc\": 'L'}\n",
    "    }\n",
    "    stack, output = [], []\n",
    "    for i in string.split():\n",
    "        try:\n",
    "            float(i)\n",
    "            output.append(i)\n",
    "        except ValueError:\n",
    "            while stack:\n",
    "                last = stack[-1]\n",
    "                if (ops[i][\"assoc\"] == \"L\" and ops[i][\"prec\"] <= ops[last][\"prec\"]) or (ops[i][\"assoc\"] == \"R\" and ops[i][\"prec\"] < ops[last][\"prec\"]):\n",
    "                      output.append(stack.pop())\n",
    "                else:\n",
    "                    break\n",
    "            stack.append(i)\n",
    "    while stack:\n",
    "        output.append(stack.pop())\n",
    "    if output:\n",
    "        return output, 0\n",
    "    return \"Could not parse the input expression\", 1"
   ]
  },
  {
   "cell_type": "code",
   "execution_count": 182,
   "metadata": {},
   "outputs": [
    {
     "ename": "ValueError",
     "evalue": "invalid literal for int() with base 10: 'Can not compute the expression'",
     "output_type": "error",
     "traceback": [
      "\u001b[0;31m---------------------------------------------------------------------------\u001b[0m",
      "\u001b[0;31mValueError\u001b[0m                                Traceback (most recent call last)",
      "\u001b[0;32m<ipython-input-182-b14106ed29a1>\u001b[0m in \u001b[0;36m<module>\u001b[0;34m\u001b[0m\n\u001b[1;32m      2\u001b[0m \u001b[0mexpression\u001b[0m \u001b[0;34m=\u001b[0m \u001b[0mmyToEmojiConverter\u001b[0m\u001b[0;34m.\u001b[0m\u001b[0mconvertEmojiStringToNormalOutput\u001b[0m\u001b[0;34m(\u001b[0m\u001b[0;34m\"1%0\"\u001b[0m\u001b[0;34m)\u001b[0m\u001b[0;34m\u001b[0m\u001b[0;34m\u001b[0m\u001b[0m\n\u001b[1;32m      3\u001b[0m \u001b[0meq\u001b[0m\u001b[0;34m,\u001b[0m \u001b[0mstatus\u001b[0m \u001b[0;34m=\u001b[0m \u001b[0mparser\u001b[0m\u001b[0;34m(\u001b[0m\u001b[0mexpression\u001b[0m\u001b[0;34m)\u001b[0m\u001b[0;34m\u001b[0m\u001b[0;34m\u001b[0m\u001b[0m\n\u001b[0;32m----> 4\u001b[0;31m \u001b[0moutput\u001b[0m \u001b[0;34m=\u001b[0m \u001b[0mint\u001b[0m\u001b[0;34m(\u001b[0m\u001b[0mcalculate\u001b[0m\u001b[0;34m(\u001b[0m\u001b[0meq\u001b[0m\u001b[0;34m)\u001b[0m\u001b[0;34m)\u001b[0m\u001b[0;34m\u001b[0m\u001b[0;34m\u001b[0m\u001b[0m\n\u001b[0m\u001b[1;32m      5\u001b[0m \u001b[0mmyToEmojiConverter\u001b[0m\u001b[0;34m.\u001b[0m\u001b[0mconvertNumberToEmoji\u001b[0m\u001b[0;34m(\u001b[0m\u001b[0moutput\u001b[0m\u001b[0;34m)\u001b[0m\u001b[0;34m\u001b[0m\u001b[0;34m\u001b[0m\u001b[0m\n",
      "\u001b[0;31mValueError\u001b[0m: invalid literal for int() with base 10: 'Can not compute the expression'"
     ]
    }
   ],
   "source": []
  },
  {
   "cell_type": "code",
   "execution_count": 159,
   "metadata": {},
   "outputs": [
    {
     "data": {
      "text/plain": [
       "b'\\xe2\\x9c\\x96  \\xe2\\x9c\\x96\\xef\\xb8\\x8f  x'"
      ]
     },
     "execution_count": 159,
     "metadata": {},
     "output_type": "execute_result"
    }
   ],
   "source": [
    "'✖  ✖️  x'.encode()"
   ]
  }
 ],
 "metadata": {
  "kernelspec": {
   "display_name": "Python 3",
   "language": "python",
   "name": "python3"
  },
  "language_info": {
   "codemirror_mode": {
    "name": "ipython",
    "version": 3
   },
   "file_extension": ".py",
   "mimetype": "text/x-python",
   "name": "python",
   "nbconvert_exporter": "python",
   "pygments_lexer": "ipython3",
   "version": "3.6.7"
  }
 },
 "nbformat": 4,
 "nbformat_minor": 2
}
